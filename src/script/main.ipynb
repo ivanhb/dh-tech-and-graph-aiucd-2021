{
 "cells": [
  {
   "cell_type": "code",
   "execution_count": 39,
   "metadata": {},
   "outputs": [],
   "source": [
    "import json\n",
    "from collections import defaultdict"
   ]
  },
  {
   "cell_type": "code",
   "execution_count": 40,
   "metadata": {},
   "outputs": [],
   "source": [
    "## Get all Techniques \n",
    "RESULTS = \"../data/res/\"\n",
    "GENERAL = \"../data/gen/\"\n",
    "with open(RESULTS+'technique.json') as json_file:\n",
    "    data = json.load(json_file)\n",
    "    techs = set(list(data.keys()))"
   ]
  },
  {
   "cell_type": "code",
   "execution_count": 37,
   "metadata": {},
   "outputs": [],
   "source": [
    "##Normalize the list of techniques\n",
    "##for a_t in techs:\n",
    "    ##print(a_t.lower())\n",
    "##list(techs)"
   ]
  },
  {
   "cell_type": "code",
   "execution_count": 41,
   "metadata": {},
   "outputs": [],
   "source": [
    "## Get the DOIs years of publication\n",
    "index_dois = {}\n",
    "years = set()\n",
    "with open(GENERAL+'dh_in_crossref.json') as cr_json_file:\n",
    "    cr_data = json.load(cr_json_file)\n",
    "    for entity in cr_data:\n",
    "        a_year = entity[\"created\"][\"date-parts\"][0][0]\n",
    "        years.add(a_year)\n",
    "        index_dois[entity[\"DOI\"]] = a_year "
   ]
  },
  {
   "cell_type": "code",
   "execution_count": 49,
   "metadata": {},
   "outputs": [],
   "source": [
    "## Union techniques with the F.FN\n",
    "count = 0\n",
    "index = {}\n",
    "for t in techs:\n",
    "    index[t.lower()] = {}\n",
    "    for a_y in years:\n",
    "        index[t.lower()][a_y] = {\"number\":0,\"doilist\":[]}\n",
    "    \n",
    "with open(GENERAL+'dh_in_mag.json') as json_file:\n",
    "    data = json.load(json_file)\n",
    "    for d in data:\n",
    "        if 'F.FN' in d and d['F.FN'] != \"\": #and len(d['AA.DAfN']) > 0:\n",
    "            for a_tech in techs:\n",
    "                a_tech = a_tech.lower()\n",
    "                if a_tech in str(d['F.FN']).split(\";;\"):\n",
    "                    index[a_tech][index_dois[d['DOI']]][\"doilist\"].append(d['DOI'])\n",
    "                    index[a_tech][index_dois[d['DOI']]][\"number\"] += 1"
   ]
  },
  {
   "cell_type": "code",
   "execution_count": 24,
   "metadata": {},
   "outputs": [],
   "source": [
    "with open('technique_union_F-FN.json', 'w') as outfile:\n",
    "    json.dump(index, outfile)"
   ]
  }
 ],
 "metadata": {
  "kernelspec": {
   "display_name": "Python 3",
   "language": "python",
   "name": "python3"
  },
  "language_info": {
   "codemirror_mode": {
    "name": "ipython",
    "version": 3
   },
   "file_extension": ".py",
   "mimetype": "text/x-python",
   "name": "python",
   "nbconvert_exporter": "python",
   "pygments_lexer": "ipython3",
   "version": "3.7.3"
  }
 },
 "nbformat": 4,
 "nbformat_minor": 2
}
