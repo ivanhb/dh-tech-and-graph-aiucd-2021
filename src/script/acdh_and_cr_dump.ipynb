{
 "cells": [
  {
   "cell_type": "code",
   "execution_count": 3,
   "metadata": {},
   "outputs": [],
   "source": [
    "import csv\n",
    "import json\n",
    "import requests\n",
    "import pandas as pd"
   ]
  },
  {
   "cell_type": "code",
   "execution_count": null,
   "metadata": {},
   "outputs": [],
   "source": [
    "# ----------------------------\n",
    "# Download a dump of all the available ACDH-2020 Open Datasets\n",
    "# ----------------------------"
   ]
  },
  {
   "cell_type": "code",
   "execution_count": 24,
   "metadata": {},
   "outputs": [],
   "source": [
    "API_SERVER = \"https://dhcr.clarin-dariah.eu/api/v1\"\n",
    "API_CALLS = [\n",
    "    \"/courses/index\",\n",
    "    \"/countries/index\",\n",
    "    \"/cities/index\",\n",
    "    \"/institutions/index\",\n",
    "    \"/course_duration_units/index\",\n",
    "    \"/deletion_reasons/index\",\n",
    "    \"/languages/index\",\n",
    "    \"/course_types/index\",\n",
    "    \"/course_parent_types/index\",\n",
    "    \"/disciplines/index\",\n",
    "    \"/tadirah_objects/index\",\n",
    "    \"/tadirah_techniques/index\"\n",
    "]\n",
    "OUTPUT_DIR = \"../data/\""
   ]
  },
  {
   "cell_type": "code",
   "execution_count": 25,
   "metadata": {},
   "outputs": [],
   "source": [
    "for api_call in API_CALLS:\n",
    "    r = requests.get(API_SERVER + api_call)\n",
    "    with open(OUTPUT_DIR+api_call.replace(\"/index\",\"\").replace(\"/\",\"\")+\".json\", 'w') as outfile:\n",
    "        json.dump(r.json(), outfile)"
   ]
  },
  {
   "cell_type": "code",
   "execution_count": null,
   "metadata": {},
   "outputs": [],
   "source": [
    "# ----------------------------\n",
    "# Create a dataset which contains all the Crossref DH articles and the metadata we are interested in: publication-date, DOI, and the title\n",
    "# ----------------------------"
   ]
  },
  {
   "cell_type": "code",
   "execution_count": 4,
   "metadata": {},
   "outputs": [],
   "source": [
    "dh_in_crossref_df = None\n",
    "json_in_crossref = None\n",
    "with open(\"../data/gen/dh_in_crossref.json\") as json_file:\n",
    "    json_in_crossref = json.load(json_file)\n",
    "\n",
    "#json_in_crossref[\"indexed\"]"
   ]
  },
  {
   "cell_type": "code",
   "execution_count": 5,
   "metadata": {},
   "outputs": [],
   "source": [
    "l_articles = {}\n",
    "for obj_art in json_in_crossref:\n",
    "    \n",
    "    if \"DOI\" in obj_art:\n",
    "    \n",
    "        title = \"none\"\n",
    "        if \"title\" in obj_art:\n",
    "            if len(obj_art[\"title\"]) > 0:\n",
    "                title = obj_art[\"title\"][0]\n",
    "\n",
    "        year = \"none\"\n",
    "        if \"created\" in obj_art:\n",
    "            if \"date-parts\" in obj_art[\"created\"]:\n",
    "                if len(obj_art[\"created\"][\"date-parts\"]) > 0:\n",
    "                    if len(obj_art[\"created\"][\"date-parts\"][0]) > 0:\n",
    "                        year = obj_art[\"created\"][\"date-parts\"][0][0]\n",
    "\n",
    "\n",
    "        l_articles[obj_art[\"DOI\"]] = {\n",
    "            \"title\": title,\n",
    "            \"year\": year\n",
    "        }\n",
    "    \n",
    "with open(\"../data/gen/dh_in_crossref_min.json\", 'w') as fp:\n",
    "    json.dump(l_articles, fp)"
   ]
  }
 ],
 "metadata": {
  "kernelspec": {
   "display_name": "Python 3",
   "language": "python",
   "name": "python3"
  },
  "language_info": {
   "codemirror_mode": {
    "name": "ipython",
    "version": 3
   },
   "file_extension": ".py",
   "mimetype": "text/x-python",
   "name": "python",
   "nbconvert_exporter": "python",
   "pygments_lexer": "ipython3",
   "version": "3.7.3"
  }
 },
 "nbformat": 4,
 "nbformat_minor": 2
}
