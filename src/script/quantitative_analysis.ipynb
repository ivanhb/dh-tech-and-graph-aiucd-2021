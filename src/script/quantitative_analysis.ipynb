{
 "cells": [
  {
   "cell_type": "code",
   "execution_count": 1,
   "metadata": {},
   "outputs": [],
   "source": [
    "import requests\n",
    "import json\n",
    "import pandas as pd\n",
    "import os\n",
    "import csv\n",
    "import nltk\n",
    "from nltk.tokenize import word_tokenize\n",
    "from nltk.corpus import stopwords\n",
    "from nltk import word_tokenize\n",
    "from nltk.translate import AlignedSent, Alignment\n",
    "import goslate\n",
    "import time\n",
    "from translate import Translator\n",
    "from difflib import SequenceMatcher\n",
    "from collections import defaultdict"
   ]
  },
  {
   "cell_type": "code",
   "execution_count": null,
   "metadata": {},
   "outputs": [],
   "source": [
    "# These are done only ones\n",
    "#nltk.download('punkt')\n",
    "#nltk.download('stopwords')"
   ]
  },
  {
   "cell_type": "code",
   "execution_count": 4,
   "metadata": {},
   "outputs": [],
   "source": [
    "# Read all the MAG and Institutions\n",
    "MAG_DICT = None\n",
    "with open(\"../data/gen/dh_in_mag.json\") as json_file:\n",
    "    MAG_DICT = json.load(json_file)\n",
    "\n",
    "ACDH_INST_PATH = \"../data/acdh/institutions.json\"\n",
    "with open(ACDH_INST_PATH) as json_file:\n",
    "    acdh_inst = json.load(json_file)"
   ]
  },
  {
   "cell_type": "code",
   "execution_count": null,
   "metadata": {},
   "outputs": [],
   "source": [
    "# all the unique institutions we have \n",
    "# Some values should ba manually corrected \n",
    "# For instance: 'Consiglio Nazionale delle Ricerche'  _and_ 'Consiglio Nazionale delle Ricerche - CNR' are the same institution\n",
    "# This goes out of this work\n",
    "\n",
    "inst_df = pd.DataFrame(acdh_inst)\n",
    "inst_df = inst_df[[\"name\",\"id\"]]\n",
    "inst_df.columns = ['acdh_name','id']\n",
    "inst_df['acdh_name'] = inst_df['acdh_name'].apply(lambda x: x.strip().lower()) \n",
    "#inst_df['language'] = inst_df['acdh_name'].apply(lambda x: gs.detect(x))\n",
    "inst_df['acdh_name_eng'] = inst_df['acdh_name'].apply(lambda x: Translator(from_lang = \"autodetect\", to_lang=\"en\").translate(x).lower())\n",
    "inst_df['acdh_name_eng'] = inst_df['acdh_name_eng'].apply(lambda x: '' if 'please select' in x else x)\n",
    "#inst_df['acdh_tokenized'] = inst_df['acdh_name'].apply(lambda x: list(set(word_tokenize(x)) - set(stopwords.words('english'))) )"
   ]
  },
  {
   "cell_type": "code",
   "execution_count": 2,
   "metadata": {},
   "outputs": [],
   "source": [
    "ACDH_INST_TRANSLATION = \"../data/gen/inst_translation.json\"\n",
    "acdh_inst_translation = None\n",
    "with open(ACDH_INST_TRANSLATION) as json_file:\n",
    "    acdh_inst_translation = json.load(json_file)"
   ]
  },
  {
   "cell_type": "code",
   "execution_count": 5,
   "metadata": {},
   "outputs": [],
   "source": [
    "def similar(a, b):\n",
    "    return SequenceMatcher(None, a, b).ratio()\n",
    "\n",
    "for art_index in range(0,len(MAG_DICT)):\n",
    "    art = MAG_DICT[art_index]\n",
    "    l_aff = []\n",
    "    for aff in art['AA.DAfN']:  \n",
    "        # Check inside the ACDH affiliations if present\n",
    "        flag_found = -1\n",
    "        for inst in acdh_inst_translation:\n",
    "            if ((similar(inst[\"acdh_name\"],aff) > 0.8) or (similar(inst[\"acdh_name_eng\"],aff) > 0.8)):\n",
    "                flag_found = inst[\"id\"]\n",
    "                break\n",
    "      \n",
    "        l_aff.append(flag_found)\n",
    "    MAG_DICT[art_index][\"acdh_aff\"] = l_aff"
   ]
  },
  {
   "cell_type": "code",
   "execution_count": 6,
   "metadata": {},
   "outputs": [],
   "source": [
    "EXPORT_READY_MAG_DICT = {}\n",
    "for item in MAG_DICT:\n",
    "    EXPORT_READY_MAG_DICT[item[\"DOI\"]] = {}\n",
    "    EXPORT_READY_MAG_DICT[item[\"DOI\"]][\"AA.DAfN\"] = item[\"AA.DAfN\"]\n",
    "    EXPORT_READY_MAG_DICT[item[\"DOI\"]][\"DOI\"] = item[\"DOI\"]\n",
    "    EXPORT_READY_MAG_DICT[item[\"DOI\"]][\"acdh_aff\"] = item[\"acdh_aff\"]"
   ]
  },
  {
   "cell_type": "code",
   "execution_count": 8,
   "metadata": {},
   "outputs": [],
   "source": [
    "with open(\"../data/res/affiliation_v2.json\", 'w') as fp:\n",
    "    json.dump(EXPORT_READY_MAG_DICT, fp)"
   ]
  },
  {
   "cell_type": "code",
   "execution_count": null,
   "metadata": {},
   "outputs": [],
   "source": [
    "#An error has been detected regarding ... \n",
    "with open(\"../data/res/affiliation.json\") as json_file:\n",
    "    affiliation_df = pd.DataFrame(json.load(json_file))\n",
    "\n",
    "ERRORS = [\" Pisa\"]\n",
    "affiliation_df = affiliation_df.set_index('DOI').drop(\" Pisa\")\n",
    "affiliation_df.to_json(\"../data/res/affiliation(with_id).json\", orient='index')"
   ]
  }
 ],
 "metadata": {
  "kernelspec": {
   "display_name": "Python 3",
   "language": "python",
   "name": "python3"
  },
  "language_info": {
   "codemirror_mode": {
    "name": "ipython",
    "version": 3
   },
   "file_extension": ".py",
   "mimetype": "text/x-python",
   "name": "python",
   "nbconvert_exporter": "python",
   "pygments_lexer": "ipython3",
   "version": "3.7.3"
  }
 },
 "nbformat": 4,
 "nbformat_minor": 2
}
